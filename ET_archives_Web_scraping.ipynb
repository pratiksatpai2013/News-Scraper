{
  "cells": [
    {
      "cell_type": "code",
      "execution_count": null,
      "metadata": {
        "id": "EDAJxT8cZlwm"
      },
      "outputs": [],
      "source": [
        "import pickle\n",
        "from bs4 import BeautifulSoup\n",
        "import numpy as np\n",
        "import datetime\n",
        "# from selenium.webdriver import Chrome\n",
        "# from selenium.webdriver.chrome.service import Service\n",
        "# from selenium.webdriver.common.by import By\n",
        "import requests\n",
        "import time\n",
        "from tqdm import tqdm\n",
        "\n",
        "headers = {\n",
        "    'User-Agent': 'Mozilla/5.0 (Windows NT 10.0; Win64; x64) AppleWebKit/537.36 (KHTML, like Gecko) Chrome/102.0.0.0 Safari/537.36'\n",
        "}"
      ]
    },
    {
      "cell_type": "code",
      "execution_count": null,
      "metadata": {
        "id": "RhjLCmVjZlwu",
        "outputId": "b948e706-d742-44b1-f301-7dc69e2662fb"
      },
      "outputs": [
        {
          "name": "stderr",
          "output_type": "stream",
          "text": [
            "  0%|          | 0/563 [00:00<?, ?it/s]"
          ]
        },
        {
          "name": "stderr",
          "output_type": "stream",
          "text": [
            "100%|██████████| 563/563 [46:41<00:00,  4.98s/it]\n"
          ]
        }
      ],
      "source": [
        "start: int = 44562\n",
        "end: int = 45124\n",
        "news_items = {'date': [], 'links': [], 'headlines': []}\n",
        "for dt in tqdm(range(start, end+1)):\n",
        "    date = datetime.datetime.fromordinal(datetime.datetime(1900, 1, 1).toordinal() + dt - 2)\n",
        "    year = date.year\n",
        "    month = date.month\n",
        "    url = 'https://economictimes.indiatimes.com/archivelist/year-' + str(year) + ',month-' + str(month) + ',starttime-' + str(dt) + '.cms'\n",
        "    # try:\n",
        "    doc = requests.get(url).text\n",
        "    bsObj = BeautifulSoup(doc)\n",
        "    contents = bsObj.findAll('ul', attrs={'class':'content'})\n",
        "    for content in contents:\n",
        "        links = content.findAll('a')\n",
        "        for link in links:\n",
        "            news_url = 'https://economictimes.indiatimes.com' + link.get_attribute_list('href')[0]\n",
        "            news_items['date'].append(date)\n",
        "            news_items['links'].append(news_url)\n",
        "            news_items['headlines'].append(link.text)\n",
        "    # except:\n",
        "    #     print(news_url)\n",
        "    #     with open('Unsuccessful_news_urls.txt', 'a') as file:\n",
        "    #         file.write(news_url)\n",
        "    #         file.write(\"\\n\")\n",
        "    #         file.close()\n",
        "    #     continue\n",
        "\n",
        "    time.sleep(3)"
      ]
    },
    {
      "cell_type": "code",
      "execution_count": null,
      "metadata": {
        "id": "DzdtFWNPZlwx"
      },
      "outputs": [],
      "source": [
        "import pandas as pd"
      ]
    },
    {
      "cell_type": "code",
      "execution_count": null,
      "metadata": {
        "id": "IR4JWIoQZlwy"
      },
      "outputs": [],
      "source": [
        "news_items_df = pd.DataFrame(news_items)"
      ]
    },
    {
      "cell_type": "code",
      "execution_count": null,
      "metadata": {
        "id": "dlnKMuIBZlwz",
        "outputId": "132f1c2f-771c-4b42-8674-47d0d4417da1"
      },
      "outputs": [
        {
          "data": {
            "text/plain": [
              "(232348, 3)"
            ]
          },
          "execution_count": 19,
          "metadata": {},
          "output_type": "execute_result"
        }
      ],
      "source": [
        "news_items_df.shape"
      ]
    },
    {
      "cell_type": "code",
      "execution_count": null,
      "metadata": {
        "id": "p51GHtFaZlwz"
      },
      "outputs": [],
      "source": [
        "news_items_df.to_json('news_items.json')"
      ]
    },
    {
      "cell_type": "code",
      "execution_count": null,
      "metadata": {
        "id": "QxNZ80YJZlw0",
        "outputId": "f7b494a2-8383-4116-a709-aa4606d23f44"
      },
      "outputs": [
        {
          "data": {
            "text/plain": [
              "0         Mamaearth raises $52 million in latest round o...\n",
              "1         India bags $638 million in cryptocurrency, blo...\n",
              "2         India bags $638 million in cryptocurrency, blo...\n",
              "3                       Airtel, Vi push for work on 6G tech\n",
              "4         Future Retail misses ₹3,000 crore payment date...\n",
              "                                ...                        \n",
              "232343    Pakistani citizen Seema Haider questioned by U...\n",
              "232344    The Sixth Commandment: Know the release date, ...\n",
              "232345    NFR opens Khongsang station for movement of es...\n",
              "232346    Russia's grain deal suspension will 'harm mill...\n",
              "232347    PETA moves SC seeking review of verdict uphold...\n",
              "Name: headlines, Length: 232348, dtype: object"
            ]
          },
          "execution_count": 21,
          "metadata": {},
          "output_type": "execute_result"
        }
      ],
      "source": [
        "news_items_df['headlines']"
      ]
    }
  ],
  "metadata": {
    "kernelspec": {
      "display_name": "venv",
      "language": "python",
      "name": "python3"
    },
    "language_info": {
      "codemirror_mode": {
        "name": "ipython",
        "version": 3
      },
      "file_extension": ".py",
      "mimetype": "text/x-python",
      "name": "python",
      "nbconvert_exporter": "python",
      "pygments_lexer": "ipython3",
      "version": "3.10.6"
    },
    "orig_nbformat": 4,
    "colab": {
      "provenance": []
    }
  },
  "nbformat": 4,
  "nbformat_minor": 0
}